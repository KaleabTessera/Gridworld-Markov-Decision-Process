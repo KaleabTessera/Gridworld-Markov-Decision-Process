{
 "cells": [
  {
   "cell_type": "markdown",
   "metadata": {},
   "source": [
    "# Reinforcement Learning in Gridworld Environment - Markov decision process (mdp)"
   ]
  },
  {
   "cell_type": "code",
   "execution_count": 178,
   "metadata": {},
   "outputs": [],
   "source": [
    "import numpy as np\n",
    "class Environment:\n",
    "    def __init__(self,height,width,start,goal):\n",
    "        self.width = width\n",
    "        self.height = height\n",
    "        \n",
    "        self.rewards = np.zeros((height,width)) -1\n",
    "        # Obstacles\n",
    "        self.rewards[2,:-1] = None\n",
    "        # Goal\n",
    "        self.goal = goal\n",
    "        self.rewards[self.goal] = 20\n",
    "        \n",
    "        # States\n",
    "        self.states = []       \n",
    "        for index, reward in np.ndenumerate(self.rewards):\n",
    "            # Not an obstacle\n",
    "            if(reward is not None):\n",
    "                self.states.append(index)\n",
    "        self.states = np.asarray(self.states)\n",
    "\n",
    "        # Actions\n",
    "        self.actions = ['u','d','l','r']\n",
    "        \n",
    "        # Ini State\n",
    "        self.current_state = start\n",
    "        \n",
    "        \n",
    "    def get_rewards(self):\n",
    "        return self.rewards\n",
    "    \n",
    "    def get_state(self):\n",
    "        return self.states\n",
    "    \n",
    "    def get_actions(self):\n",
    "        return self.actions\n",
    "    \n",
    "    def get_grid_world(self):\n",
    "        grid_world = np.chararray((self.width, self.height),unicode=True)\n",
    "        grid_world[:] = '-'\n",
    "        grid_world[self.current_state]= 'a'\n",
    "        grid_world[2,:-1] = 'o'\n",
    "        grid_world[self.goal] = 'g'\n",
    "        return grid_world\n",
    "        \n",
    "        "
   ]
  },
  {
   "cell_type": "code",
   "execution_count": 179,
   "metadata": {},
   "outputs": [
    {
     "name": "stdout",
     "output_type": "stream",
     "text": [
      "World \n",
      " [['g' '-' '-' '-' '-' '-' '-']\n",
      " ['-' '-' '-' '-' '-' '-' '-']\n",
      " ['o' 'o' 'o' 'o' 'o' 'o' '-']\n",
      " ['-' '-' '-' '-' '-' '-' '-']\n",
      " ['-' '-' '-' '-' '-' '-' '-']\n",
      " ['-' '-' '-' '-' '-' '-' '-']\n",
      " ['a' '-' '-' '-' '-' '-' '-']]\n"
     ]
    }
   ],
   "source": [
    "height=7\n",
    "width=7\n",
    "env = Environment(height=7,width=7,start=(height-1,0),goal=(0,0))\n",
    "print(f\"World \\n {env.get_grid_world()}\")"
   ]
  }
 ],
 "metadata": {
  "kernelspec": {
   "display_name": "Python 3",
   "language": "python",
   "name": "python3"
  },
  "language_info": {
   "codemirror_mode": {
    "name": "ipython",
    "version": 3
   },
   "file_extension": ".py",
   "mimetype": "text/x-python",
   "name": "python",
   "nbconvert_exporter": "python",
   "pygments_lexer": "ipython3",
   "version": "3.7.3"
  }
 },
 "nbformat": 4,
 "nbformat_minor": 2
}
