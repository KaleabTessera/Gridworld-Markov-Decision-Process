{
 "cells": [
  {
   "cell_type": "markdown",
   "metadata": {},
   "source": [
    "# Reinforcement Learning in Gridworld Environment using Markov decision process (mdp)"
   ]
  },
  {
   "cell_type": "code",
   "execution_count": 543,
   "metadata": {},
   "outputs": [],
   "source": [
    "import numpy as np\n",
    "class Environment:\n",
    "    def __init__(self,height,width,start,goal):\n",
    "        self.width = width\n",
    "        self.height = height\n",
    "        \n",
    "        # R - possible reward space\n",
    "        self.R = np.zeros((height,width)) -1\n",
    "        # Obstacles\n",
    "        self.R[2,:-1] = np.nan\n",
    "        # Goal\n",
    "        self.goal = goal\n",
    "        self.R[self.goal] = 20\n",
    "        \n",
    "        # S - possible state states\n",
    "        self.S = []       \n",
    "        for index, reward in np.ndenumerate(self.R):\n",
    "            # Not an obstacle\n",
    "            if(not np.isnan(reward)):\n",
    "                self.S.append(index)\n",
    "        self.S = np.asarray(self.S)\n",
    "\n",
    "        # A - Actions Space\n",
    "        self.A = ['u','d','l','r']\n",
    "        \n",
    "        # s - Ini State - list for easier indexing\n",
    "        self.s = list(start)\n",
    "        \n",
    "        # r - cumulative Reward\n",
    "        self.G_t = 0\n",
    "        \n",
    "        \n",
    "    def get_rewards(self):\n",
    "        return self.G_t\n",
    "    \n",
    "    def get_possible_rewards(self):\n",
    "        return self.R\n",
    "    \n",
    "    def get_possible_states(self):\n",
    "        return self.S\n",
    "    \n",
    "    def get_state(self):\n",
    "        return self.s\n",
    "    \n",
    "    def get_actions(self):\n",
    "        return self.actions\n",
    "    \n",
    "    def get_grid_world(self):\n",
    "        grid_world = np.chararray((self.width, self.height),unicode=True)\n",
    "        grid_world[:] = '-'\n",
    "        grid_world[self.s[0],self.s[1]]= 'a'\n",
    "        grid_world[2,:-1] = 'o'\n",
    "        grid_world[self.goal] = 'g'\n",
    "        return grid_world\n",
    "     \n",
    "    def step(self, action,print_info=True):\n",
    "        new_s,new_r = self.take_step(self.s,action)\n",
    "        self.G_t += new_r\n",
    "        self.s = new_s\n",
    "        if(print_info):\n",
    "            print(f'old_s:{self.s} new_s:{new_s} r_t:{new_r} G_t:{self.G_t}')\n",
    "            print(f\"World \\n {self.get_grid_world()}\")\n",
    "        \n",
    "    def check_if_s_in_S(self,s):\n",
    "        for possible_s in self.S:\n",
    "            if(possible_s[0] == s[0] and possible_s[1] == s[1]):\n",
    "                return True\n",
    "        return False\n",
    "    \n",
    "    def take_step(self,s,a):\n",
    "        if(a not in self.A):\n",
    "            raise ValueError('Unknown action', a)\n",
    "        new_s = s.copy()\n",
    "        if(a == 'u'):\n",
    "            new_s[0] -= 1\n",
    "        if(a == 'd'):\n",
    "            new_s[0] += 1\n",
    "        if(a == 'l'):\n",
    "            new_s[1] -= 1\n",
    "        if(a == 'r'):\n",
    "            new_s[1] += 1\n",
    "         \n",
    "        # Out of bounds - stay in same place\n",
    "        if((new_s[0] < 0 or new_s[0]>self.height-1) or (new_s[1] < 0 or new_s[1]>self.width-1)):\n",
    "            return s,0\n",
    "        # Check Obstacles - not in possible states - stay in same place\n",
    "        elif(not self.check_if_s_in_S(new_s)):\n",
    "            return s,0\n",
    "        return new_s,self.R[new_s[0],new_s[1]]"
   ]
  },
  {
   "cell_type": "code",
   "execution_count": 544,
   "metadata": {},
   "outputs": [
    {
     "name": "stdout",
     "output_type": "stream",
     "text": [
      "World \n",
      " [['g' '-' '-' '-' '-' '-' '-']\n",
      " ['-' '-' '-' '-' '-' '-' '-']\n",
      " ['o' 'o' 'o' 'o' 'o' 'o' '-']\n",
      " ['-' '-' '-' '-' '-' '-' '-']\n",
      " ['-' '-' '-' '-' '-' '-' '-']\n",
      " ['-' '-' '-' '-' '-' '-' '-']\n",
      " ['a' '-' '-' '-' '-' '-' '-']]\n"
     ]
    }
   ],
   "source": [
    "height=7\n",
    "width=7\n",
    "env = Environment(height=7,width=7,start=(height-1,0),goal=(0,0))\n",
    "print(f\"World \\n {env.get_grid_world()}\")"
   ]
  },
  {
   "cell_type": "code",
   "execution_count": 545,
   "metadata": {},
   "outputs": [
    {
     "name": "stdout",
     "output_type": "stream",
     "text": [
      "old_s:[5, 0] new_s:[5, 0] r_t:-1.0 G_t:-1.0\n",
      "World \n",
      " [['g' '-' '-' '-' '-' '-' '-']\n",
      " ['-' '-' '-' '-' '-' '-' '-']\n",
      " ['o' 'o' 'o' 'o' 'o' 'o' '-']\n",
      " ['-' '-' '-' '-' '-' '-' '-']\n",
      " ['-' '-' '-' '-' '-' '-' '-']\n",
      " ['a' '-' '-' '-' '-' '-' '-']\n",
      " ['-' '-' '-' '-' '-' '-' '-']]\n",
      "old_s:[4, 0] new_s:[4, 0] r_t:-1.0 G_t:-2.0\n",
      "World \n",
      " [['g' '-' '-' '-' '-' '-' '-']\n",
      " ['-' '-' '-' '-' '-' '-' '-']\n",
      " ['o' 'o' 'o' 'o' 'o' 'o' '-']\n",
      " ['-' '-' '-' '-' '-' '-' '-']\n",
      " ['a' '-' '-' '-' '-' '-' '-']\n",
      " ['-' '-' '-' '-' '-' '-' '-']\n",
      " ['-' '-' '-' '-' '-' '-' '-']]\n",
      "old_s:[3, 0] new_s:[3, 0] r_t:-1.0 G_t:-3.0\n",
      "World \n",
      " [['g' '-' '-' '-' '-' '-' '-']\n",
      " ['-' '-' '-' '-' '-' '-' '-']\n",
      " ['o' 'o' 'o' 'o' 'o' 'o' '-']\n",
      " ['a' '-' '-' '-' '-' '-' '-']\n",
      " ['-' '-' '-' '-' '-' '-' '-']\n",
      " ['-' '-' '-' '-' '-' '-' '-']\n",
      " ['-' '-' '-' '-' '-' '-' '-']]\n",
      "old_s:[3, 0] new_s:[3, 0] r_t:0 G_t:-3.0\n",
      "World \n",
      " [['g' '-' '-' '-' '-' '-' '-']\n",
      " ['-' '-' '-' '-' '-' '-' '-']\n",
      " ['o' 'o' 'o' 'o' 'o' 'o' '-']\n",
      " ['a' '-' '-' '-' '-' '-' '-']\n",
      " ['-' '-' '-' '-' '-' '-' '-']\n",
      " ['-' '-' '-' '-' '-' '-' '-']\n",
      " ['-' '-' '-' '-' '-' '-' '-']]\n"
     ]
    }
   ],
   "source": [
    "for i in np.arange(4):\n",
    "    env.step('u')"
   ]
  },
  {
   "cell_type": "code",
   "execution_count": 539,
   "metadata": {},
   "outputs": [
    {
     "name": "stdout",
     "output_type": "stream",
     "text": [
      "old_s:[3, 6] new_s:[3, 6] r:0\n",
      "World \n",
      " [['g' '-' '-' '-' '-' '-' '-']\n",
      " ['-' '-' '-' '-' '-' '-' '-']\n",
      " ['o' 'o' 'o' 'o' 'o' 'o' '-']\n",
      " ['-' '-' '-' '-' '-' '-' 'a']\n",
      " ['-' '-' '-' '-' '-' '-' '-']\n",
      " ['-' '-' '-' '-' '-' '-' '-']\n",
      " ['-' '-' '-' '-' '-' '-' '-']]\n",
      "old_s:[3, 6] new_s:[3, 6] r:0\n",
      "World \n",
      " [['g' '-' '-' '-' '-' '-' '-']\n",
      " ['-' '-' '-' '-' '-' '-' '-']\n",
      " ['o' 'o' 'o' 'o' 'o' 'o' '-']\n",
      " ['-' '-' '-' '-' '-' '-' 'a']\n",
      " ['-' '-' '-' '-' '-' '-' '-']\n",
      " ['-' '-' '-' '-' '-' '-' '-']\n",
      " ['-' '-' '-' '-' '-' '-' '-']]\n",
      "old_s:[3, 6] new_s:[3, 6] r:0\n",
      "World \n",
      " [['g' '-' '-' '-' '-' '-' '-']\n",
      " ['-' '-' '-' '-' '-' '-' '-']\n",
      " ['o' 'o' 'o' 'o' 'o' 'o' '-']\n",
      " ['-' '-' '-' '-' '-' '-' 'a']\n",
      " ['-' '-' '-' '-' '-' '-' '-']\n",
      " ['-' '-' '-' '-' '-' '-' '-']\n",
      " ['-' '-' '-' '-' '-' '-' '-']]\n",
      "old_s:[3, 6] new_s:[3, 6] r:0\n",
      "World \n",
      " [['g' '-' '-' '-' '-' '-' '-']\n",
      " ['-' '-' '-' '-' '-' '-' '-']\n",
      " ['o' 'o' 'o' 'o' 'o' 'o' '-']\n",
      " ['-' '-' '-' '-' '-' '-' 'a']\n",
      " ['-' '-' '-' '-' '-' '-' '-']\n",
      " ['-' '-' '-' '-' '-' '-' '-']\n",
      " ['-' '-' '-' '-' '-' '-' '-']]\n"
     ]
    }
   ],
   "source": [
    "for i in np.arange(4):\n",
    "    env.step('r')"
   ]
  },
  {
   "cell_type": "code",
   "execution_count": null,
   "metadata": {},
   "outputs": [],
   "source": []
  }
 ],
 "metadata": {
  "kernelspec": {
   "display_name": "Python 3",
   "language": "python",
   "name": "python3"
  },
  "language_info": {
   "codemirror_mode": {
    "name": "ipython",
    "version": 3
   },
   "file_extension": ".py",
   "mimetype": "text/x-python",
   "name": "python",
   "nbconvert_exporter": "python",
   "pygments_lexer": "ipython3",
   "version": "3.7.3"
  }
 },
 "nbformat": 4,
 "nbformat_minor": 2
}
